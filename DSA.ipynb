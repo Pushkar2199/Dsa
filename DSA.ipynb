{
 "cells": [
  {
   "cell_type": "code",
   "execution_count": 8,
   "id": "eb2410bf",
   "metadata": {},
   "outputs": [
    {
     "name": "stdout",
     "output_type": "stream",
     "text": [
      "pairs of integers array whose sum is 6 :\n",
      "\t (0, 6) = 6\n",
      "\t (1, 5) = 6\n",
      "\t (2, 4) = 6\n",
      "\t (3, 3) = 6\n",
      "\t (4, 2) = 6\n",
      "\t (6, 0) = 6\n",
      "\t (5, 1) = 6\n"
     ]
    }
   ],
   "source": [
    "#Q1. Write a program to find all pairs of an integer array whose sum is equal to a given number?\n",
    "\n",
    "l = [0,1,2,3,4,6,5,9]\n",
    "\n",
    "print(\"pairs of integers array whose sum is 6 :\")\n",
    "for i in l :\n",
    "    for j in l :\n",
    "        if i + j == 6 :\n",
    "            print(\"\\t\",(i,j),\"= 6\")         "
   ]
  },
  {
   "cell_type": "code",
   "execution_count": 14,
   "id": "d940cb6b",
   "metadata": {},
   "outputs": [
    {
     "name": "stdout",
     "output_type": "stream",
     "text": [
      "original array : [2, 4, 56, 7, 54, 32]\n",
      "reversed array : [32, 54, 7, 56, 4, 2]\n"
     ]
    }
   ],
   "source": [
    "#Q2. Write a program to reverse an array in place? In place means you cannot create a new array. You have to update the original array.\n",
    "\n",
    "l = [2,4,56,7,54,32]\n",
    "print(\"original array :\",l)\n",
    "l.reverse()\n",
    "\n",
    "\n",
    "print(\"reversed array :\",l)"
   ]
  },
  {
   "cell_type": "code",
   "execution_count": 18,
   "id": "e2a5eb6a",
   "metadata": {},
   "outputs": [
    {
     "name": "stdout",
     "output_type": "stream",
     "text": [
      "Second string is a rotation of first string\n"
     ]
    }
   ],
   "source": [
    "#Q3. Write a program to check if two strings are a rotation of each other?\n",
    "\n",
    "str1 = \"abcde\";  \n",
    "str2 = \"deabc\";  \n",
    "   \n",
    "if len(str1) != len(str2) :  \n",
    "    print(\"Second string is not a rotation of first string\") \n",
    "    \n",
    "else:  \n",
    "    str1 = str1 + str1  \n",
    "    if str1.index(str2) :  \n",
    "            print(\"Second string is a rotation of first string\")\n",
    "            \n",
    "    else : \n",
    "            print(\"Second string is not a rotation of first string\")  "
   ]
  },
  {
   "cell_type": "code",
   "execution_count": 32,
   "id": "de2c626c",
   "metadata": {},
   "outputs": [
    {
     "data": {
      "text/plain": [
       "('first repeated character', 'd')"
      ]
     },
     "execution_count": 32,
     "metadata": {},
     "output_type": "execute_result"
    }
   ],
   "source": [
    "# Q4 Write a program to print the first non-repeated character from a string?\n",
    "\n",
    "string = \"asldhifdsgegrkewhregwr wfheiqhr\"\n",
    "str = {}\n",
    "def f(string) :\n",
    "    for i in string :\n",
    "        if i in str :\n",
    "            return \"first repeated character\",i \n",
    "        else :\n",
    "            str[i] = 0\n",
    "    return \"\"   \n",
    "f(string)   "
   ]
  },
  {
   "cell_type": "code",
   "execution_count": 1,
   "id": "fc8b568a",
   "metadata": {},
   "outputs": [
    {
     "name": "stdout",
     "output_type": "stream",
     "text": [
      "Move disk 1 from rod A to rod C\n",
      "Move disk 2 from rod A to rod B\n",
      "Move disk 1 from rod C to rod B\n",
      "Move disk 3 from rod A to rod C\n",
      "Move disk 1 from rod B to rod A\n",
      "Move disk 2 from rod B to rod C\n",
      "Move disk 1 from rod A to rod C\n"
     ]
    }
   ],
   "source": [
    "# Q5. Read about the Tower of Hanoi algorithm. Write a program to implement it.\n",
    "\n",
    "def TowerOfHanoi(n , from_rod, to_rod, aux_rod):\n",
    "    if n == 1:\n",
    "        print (\"Move disk 1 from rod\",from_rod,\"to rod\",to_rod)\n",
    "        return\n",
    "    \n",
    "    TowerOfHanoi(n-1, from_rod, aux_rod, to_rod)\n",
    "    print (\"Move disk\",n,\"from rod\",from_rod,\"to rod\",to_rod)\n",
    "    TowerOfHanoi(n-1, aux_rod, to_rod, from_rod)\n",
    "\n",
    "n = 3\n",
    "TowerOfHanoi(n, 'A', 'C', 'B')"
   ]
  },
  {
   "cell_type": "code",
   "execution_count": 12,
   "id": "9e24d3a6",
   "metadata": {},
   "outputs": [
    {
     "name": "stdout",
     "output_type": "stream",
     "text": [
      "Prefix :  +AB-CD\n"
     ]
    }
   ],
   "source": [
    "#Q6)  Write a program to convert postfix to prefix expression\n",
    "    \n",
    "def isOperator(x):\n",
    "    if x == \"+\":\n",
    "        return True\n",
    "    if x == \"-\":\n",
    "        return True\n",
    "    if x == \"/\":\n",
    "        return True\n",
    "    if x == \"*\":\n",
    "        return True\n",
    "    return False\n",
    " \n",
    "def postToPre(post_exp): \n",
    "    s = []\n",
    "    length = len(post_exp) \n",
    "    for i in range(length) :\n",
    "        if (isOperator(post_exp[i])):\n",
    "            op1 = s[-1]\n",
    "            s.pop()\n",
    "            op2 = s[-1]\n",
    "            s.pop() \n",
    "            temp = post_exp[i] + op2 + op1\n",
    "            s.append(temp)\n",
    "        else:\n",
    "            s.append(post_exp[i])    \n",
    "    ans = \"\"\n",
    "    for i in s:\n",
    "        ans += i\n",
    "    return ans\n",
    "post_exp = \"AB+CD-\"    \n",
    "print(\"Prefix : \", postToPre(post_exp))\n",
    "     \n",
    "    "
   ]
  },
  {
   "cell_type": "code",
   "execution_count": 11,
   "id": "e7af889f",
   "metadata": {},
   "outputs": [
    {
     "name": "stdout",
     "output_type": "stream",
     "text": [
      "((A-(B/C))*((A/K)-L))\n"
     ]
    }
   ],
   "source": [
    "\n",
    "#Q7.Write a program to convert prefix expression to infix expression.\n",
    "\n",
    "def prefixToInfix(prefix):\n",
    "    stack = []\n",
    "\n",
    "\n",
    "    i = len(prefix) - 1\n",
    "    while i >= 0:\n",
    "        if not isOperator(prefix[i]):\n",
    "            stack.append(prefix[i])\n",
    "            i -= 1\n",
    "        else:\n",
    "\n",
    "            str = \"(\" + stack.pop() + prefix[i] + stack.pop() + \")\"\n",
    "            stack.append(str)\n",
    "            i -= 1\n",
    "    return stack.pop()\n",
    "\n",
    "def isOperator(c):\n",
    "    if c == \"*\" or c == \"+\" or c == \"-\" or c == \"/\" or c == \"^\" or c == \"(\" or c == \")\":\n",
    "        return True\n",
    "    else:\n",
    "        return False\n",
    "\n",
    "# Driver code\n",
    "if __name__==\"__main__\":\n",
    "    str = \"*-A/BC-/AKL\"\n",
    "    print(prefixToInfix(str))\n",
    "\n",
    "\n"
   ]
  },
  {
   "cell_type": "code",
   "execution_count": 1,
   "id": "5db3ecab",
   "metadata": {},
   "outputs": [
    {
     "name": "stdout",
     "output_type": "stream",
     "text": [
      "Balanced\n"
     ]
    }
   ],
   "source": [
    "# Q8. Write a program to check if all the brackets are closed in a given code snippet.\n",
    "\n",
    "def areBracketsBalanced(expr):\n",
    "    stack = []\n",
    " \n",
    "    for char in expr:\n",
    "        if char in [\"(\", \"{\", \"[\"]:\n",
    "            stack.append(char)\n",
    "        \n",
    "        else:\n",
    "            if not stack:\n",
    "                return False\n",
    "            current_char = stack.pop()\n",
    "            \n",
    "            if current_char == '(':\n",
    "                if char != \")\":\n",
    "                    return False\n",
    "            \n",
    "            if current_char == '{':\n",
    "                if char != \"}\":\n",
    "                    return False\n",
    "            \n",
    "            if current_char == '[':\n",
    "                if char != \"]\":\n",
    "                    return False\n",
    "    \n",
    "    if stack :\n",
    "        return False\n",
    "    else :\n",
    "        return True\n",
    "\n",
    "expr = \"{()}[]\"\n",
    "\n",
    "if areBracketsBalanced(expr):\n",
    "    print(\"Balanced\")\n",
    "else:\n",
    "    print(\"Not Balanced\")"
   ]
  },
  {
   "cell_type": "code",
   "execution_count": 5,
   "id": "4081d4ab",
   "metadata": {},
   "outputs": [
    {
     "name": "stdout",
     "output_type": "stream",
     "text": [
      "Enter the elements to add to the stack: 7 8 9 72 6 7 5 6 \n",
      "The reversed stack is:\n",
      "6\n",
      "5\n",
      "7\n",
      "6\n",
      "72\n",
      "9\n",
      "8\n",
      "7\n",
      "The stack is:\n",
      "7\n",
      "8\n",
      "9\n",
      "72\n",
      "6\n",
      "7\n",
      "5\n",
      "6\n"
     ]
    }
   ],
   "source": [
    "#Q9. Write a program to reverse a stack.\n",
    "\n",
    "class Stack_structure:\n",
    "    def __init__(self):\n",
    "        self.items = []\n",
    "\n",
    "    def check_empty(self):\n",
    "        return self.items == []\n",
    "\n",
    "    def push_val(self, data):\n",
    "        self.items.append(data)\n",
    "    def pop_val(self):\n",
    "        return self.items.pop()\n",
    "    \n",
    "    def print_it(self):\n",
    "        for data in reversed(self.items):\n",
    "            print(data)\n",
    "\n",
    "def insert_bottom(instance, data):\n",
    "    if instance.check_empty():\n",
    "        instance.push_val(data)\n",
    "    else:\n",
    "        deleted_elem = instance.pop_val()\n",
    "        insert_bottom(instance, data)\n",
    "        instance.push_val(deleted_elem)\n",
    "\n",
    "def stack_reverse(instance):\n",
    "    if not instance.check_empty():\n",
    "        deleted_elem = instance.pop_val()\n",
    "        stack_reverse(instance)\n",
    "        insert_bottom(instance, deleted_elem)\n",
    "\n",
    "my_instance = Stack_structure()\n",
    "data_list = input('Enter the elements to add to the stack: ').split()\n",
    "for data in data_list:\n",
    "    my_instance.push_val(int(data))\n",
    "\n",
    "print('The reversed stack is:')\n",
    "my_instance.print_it()\n",
    "stack_reverse(my_instance)\n",
    "print('The stack is:')\n",
    "my_instance.print_it()"
   ]
  },
  {
   "cell_type": "code",
   "execution_count": 30,
   "id": "b1190a0b",
   "metadata": {},
   "outputs": [
    {
     "name": "stdout",
     "output_type": "stream",
     "text": [
      "smallest element : 10\n"
     ]
    }
   ],
   "source": [
    "#Q10. Write a program to find the smallest number using a stack.\n",
    "\n",
    "import math\n",
    "\n",
    "def Smallest(arr):\n",
    "    arr_size = len(arr)\n",
    "    first = math.inf\n",
    "    \n",
    "    for i in range(0, arr_size):\n",
    "        if arr[i] < first:\n",
    "            first = arr[i]\n",
    "    print(\"smallest element :\",first)\n",
    "\n",
    "arr = [12, 13, 10, 34,]\n",
    "Smallest(arr)\n"
   ]
  },
  {
   "cell_type": "code",
   "execution_count": null,
   "id": "9ec3b861",
   "metadata": {},
   "outputs": [],
   "source": []
  }
 ],
 "metadata": {
  "kernelspec": {
   "display_name": "Python 3 (ipykernel)",
   "language": "python",
   "name": "python3"
  },
  "language_info": {
   "codemirror_mode": {
    "name": "ipython",
    "version": 3
   },
   "file_extension": ".py",
   "mimetype": "text/x-python",
   "name": "python",
   "nbconvert_exporter": "python",
   "pygments_lexer": "ipython3",
   "version": "3.10.2"
  }
 },
 "nbformat": 4,
 "nbformat_minor": 5
}
